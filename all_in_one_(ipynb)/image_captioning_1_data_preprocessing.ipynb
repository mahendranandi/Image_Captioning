{
 "cells": [
  {
   "cell_type": "markdown",
   "metadata": {},
   "source": [
    "# (1st part) DATA PREPROCESSING\n",
    "                                                 BY MAHENDRA NANDI"
   ]
  },
  {
   "cell_type": "markdown",
   "metadata": {},
   "source": [
    "- This is the 1st notebook ( or 1st part of the project, we have two different notebook, one is for preprocessin g and other is for model and training) of the two.\n",
    "- Import libraries if needed.\n",
    "- follow the codes carefully, you can get why that has been done before something else. You need to understand the \n",
    "\n",
    "- The almost same code is present in the py files out side this folder.If you are done with practicing in notebook you may then go through the py files.\n",
    "- Ignore first 6 cells. These are for some other reasons which you can get after going through the whole notebook."
   ]
  },
  {
   "cell_type": "code",
   "execution_count": null,
   "metadata": {},
   "outputs": [],
   "source": []
  },
  {
   "cell_type": "code",
   "execution_count": null,
   "metadata": {
    "id": "Uqjk7YlIv2ru"
   },
   "outputs": [],
   "source": [
    "%pycat preprocessing.py"
   ]
  },
  {
   "cell_type": "code",
   "execution_count": 71,
   "metadata": {
    "colab": {
     "base_uri": "https://localhost:8080/"
    },
    "executionInfo": {
     "elapsed": 449,
     "status": "ok",
     "timestamp": 1624006698460,
     "user": {
      "displayName": "Mahendra Nandi",
      "photoUrl": "https://lh3.googleusercontent.com/a-/AOh14GiJvHORFQZmkU0oU_6jyOvujzaYNa0qm2rJlreUVKM=s64",
      "userId": "12295991303106185198"
     },
     "user_tz": -330
    },
    "id": "vsH5qO8Fv2mD",
    "outputId": "82562375-aff2-4c4b-8597-67f0e01c0131"
   },
   "outputs": [
    {
     "name": "stdout",
     "output_type": "stream",
     "text": [
      "/content/drive/MyDrive/BDA2020_MN/Projects/My_Projects\n",
      "time: 15.6 ms (started: 2021-06-18 08:56:39 +00:00)\n"
     ]
    }
   ],
   "source": [
    "%cd /content/drive/MyDrive/BDA2020_MN/Projects/My_Projects/"
   ]
  },
  {
   "cell_type": "code",
   "execution_count": 72,
   "metadata": {
    "colab": {
     "base_uri": "https://localhost:8080/"
    },
    "executionInfo": {
     "elapsed": 13,
     "status": "ok",
     "timestamp": 1624006702014,
     "user": {
      "displayName": "Mahendra Nandi",
      "photoUrl": "https://lh3.googleusercontent.com/a-/AOh14GiJvHORFQZmkU0oU_6jyOvujzaYNa0qm2rJlreUVKM=s64",
      "userId": "12295991303106185198"
     },
     "user_tz": -330
    },
    "id": "NCb3jHwYv2gh",
    "outputId": "08f8983d-2475-4995-f83f-d9774aa77c8f"
   },
   "outputs": [
    {
     "name": "stdout",
     "output_type": "stream",
     "text": [
      "'Copy of image_captioning_preprocessing.ipynb'\n",
      " demo.mahi\n",
      " image_captioning.ipynb\n",
      " image_captioning_preprocessing.ipynb\n",
      " image_captioning_training_testing_12th_june_55epochs.ipynb\n",
      " image_processing.py\n",
      " preprocessing.py\n",
      " pypy1.py\n",
      " text_processing.py\n",
      "time: 125 ms (started: 2021-06-18 08:56:42 +00:00)\n"
     ]
    }
   ],
   "source": [
    "ls"
   ]
  },
  {
   "cell_type": "code",
   "execution_count": 82,
   "metadata": {
    "colab": {
     "base_uri": "https://localhost:8080/"
    },
    "executionInfo": {
     "elapsed": 3456,
     "status": "ok",
     "timestamp": 1624009781909,
     "user": {
      "displayName": "Mahendra Nandi",
      "photoUrl": "https://lh3.googleusercontent.com/a-/AOh14GiJvHORFQZmkU0oU_6jyOvujzaYNa0qm2rJlreUVKM=s64",
      "userId": "12295991303106185198"
     },
     "user_tz": -330
    },
    "id": "EgM7Ce9QdByy",
    "outputId": "cfcf2a8f-b5ab-40aa-d881-f632f8b2c738"
   },
   "outputs": [
    {
     "name": "stdout",
     "output_type": "stream",
     "text": [
      "2021-06-18 09:48:00.106854: I tensorflow/stream_executor/platform/default/dso_loader.cc:53] Successfully opened dynamic library libcudart.so.11.0\n",
      "time: 2.85 s (started: 2021-06-18 09:47:59 +00:00)\n"
     ]
    }
   ],
   "source": [
    "!python image_processing.py"
   ]
  },
  {
   "cell_type": "code",
   "execution_count": 78,
   "metadata": {
    "colab": {
     "base_uri": "https://localhost:8080/"
    },
    "executionInfo": {
     "elapsed": 3632,
     "status": "ok",
     "timestamp": 1624008557314,
     "user": {
      "displayName": "Mahendra Nandi",
      "photoUrl": "https://lh3.googleusercontent.com/a-/AOh14GiJvHORFQZmkU0oU_6jyOvujzaYNa0qm2rJlreUVKM=s64",
      "userId": "12295991303106185198"
     },
     "user_tz": -330
    },
    "id": "aKwpaX1Dv2aB",
    "outputId": "976d506c-bc56-49a1-9839-8c586859c79b"
   },
   "outputs": [
    {
     "name": "stdout",
     "output_type": "stream",
     "text": [
      "2021-06-18 09:27:35.541778: I tensorflow/stream_executor/platform/default/dso_loader.cc:53] Successfully opened dynamic library libcudart.so.11.0\n",
      "time: 3.04 s (started: 2021-06-18 09:27:34 +00:00)\n"
     ]
    }
   ],
   "source": [
    "!python text_processing.py"
   ]
  },
  {
   "cell_type": "code",
   "execution_count": null,
   "metadata": {
    "id": "zlN7YTbgv2Tx"
   },
   "outputs": [],
   "source": []
  },
  {
   "cell_type": "code",
   "execution_count": null,
   "metadata": {
    "id": "4HsLIG0bv2LT"
   },
   "outputs": [],
   "source": []
  },
  {
   "cell_type": "markdown",
   "metadata": {
    "id": "IHvi0hBcCs84"
   },
   "source": [
    "# Image Captioning using LSTM on Flickr8K dataset"
   ]
  },
  {
   "cell_type": "markdown",
   "metadata": {
    "id": "CdAco8evC0LI"
   },
   "source": [
    "## Downloading Data and Dependencies"
   ]
  },
  {
   "cell_type": "code",
   "execution_count": 52,
   "metadata": {
    "colab": {
     "base_uri": "https://localhost:8080/"
    },
    "executionInfo": {
     "elapsed": 3380,
     "status": "ok",
     "timestamp": 1624006288253,
     "user": {
      "displayName": "Mahendra Nandi",
      "photoUrl": "https://lh3.googleusercontent.com/a-/AOh14GiJvHORFQZmkU0oU_6jyOvujzaYNa0qm2rJlreUVKM=s64",
      "userId": "12295991303106185198"
     },
     "user_tz": -330
    },
    "id": "FNb5Ttn2B7vA",
    "outputId": "bdefd75a-6076-4b52-9289-56e9c2232772"
   },
   "outputs": [
    {
     "name": "stdout",
     "output_type": "stream",
     "text": [
      "Requirement already satisfied: ipython-autotime in /usr/local/lib/python3.7/dist-packages (0.3.1)\n",
      "Requirement already satisfied: ipython in /usr/local/lib/python3.7/dist-packages (from ipython-autotime) (5.5.0)\n",
      "Requirement already satisfied: pickleshare in /usr/local/lib/python3.7/dist-packages (from ipython->ipython-autotime) (0.7.5)\n",
      "Requirement already satisfied: pexpect; sys_platform != \"win32\" in /usr/local/lib/python3.7/dist-packages (from ipython->ipython-autotime) (4.8.0)\n",
      "Requirement already satisfied: pygments in /usr/local/lib/python3.7/dist-packages (from ipython->ipython-autotime) (2.6.1)\n",
      "Requirement already satisfied: simplegeneric>0.8 in /usr/local/lib/python3.7/dist-packages (from ipython->ipython-autotime) (0.8.1)\n",
      "Requirement already satisfied: decorator in /usr/local/lib/python3.7/dist-packages (from ipython->ipython-autotime) (4.4.2)\n",
      "Requirement already satisfied: prompt-toolkit<2.0.0,>=1.0.4 in /usr/local/lib/python3.7/dist-packages (from ipython->ipython-autotime) (1.0.18)\n",
      "Requirement already satisfied: setuptools>=18.5 in /usr/local/lib/python3.7/dist-packages (from ipython->ipython-autotime) (57.0.0)\n",
      "Requirement already satisfied: traitlets>=4.2 in /usr/local/lib/python3.7/dist-packages (from ipython->ipython-autotime) (5.0.5)\n",
      "Requirement already satisfied: ptyprocess>=0.5 in /usr/local/lib/python3.7/dist-packages (from pexpect; sys_platform != \"win32\"->ipython->ipython-autotime) (0.7.0)\n",
      "Requirement already satisfied: wcwidth in /usr/local/lib/python3.7/dist-packages (from prompt-toolkit<2.0.0,>=1.0.4->ipython->ipython-autotime) (0.2.5)\n",
      "Requirement already satisfied: six>=1.9.0 in /usr/local/lib/python3.7/dist-packages (from prompt-toolkit<2.0.0,>=1.0.4->ipython->ipython-autotime) (1.15.0)\n",
      "Requirement already satisfied: ipython-genutils in /usr/local/lib/python3.7/dist-packages (from traitlets>=4.2->ipython->ipython-autotime) (0.2.0)\n",
      "The autotime extension is already loaded. To reload it, use:\n",
      "  %reload_ext autotime\n",
      "time: 2.75 s (started: 2021-06-18 08:49:45 +00:00)\n"
     ]
    }
   ],
   "source": [
    "!pip install ipython-autotime\n",
    "\n",
    "%load_ext autotime"
   ]
  },
  {
   "cell_type": "code",
   "execution_count": 53,
   "metadata": {
    "colab": {
     "base_uri": "https://localhost:8080/"
    },
    "executionInfo": {
     "elapsed": 19,
     "status": "ok",
     "timestamp": 1624006288253,
     "user": {
      "displayName": "Mahendra Nandi",
      "photoUrl": "https://lh3.googleusercontent.com/a-/AOh14GiJvHORFQZmkU0oU_6jyOvujzaYNa0qm2rJlreUVKM=s64",
      "userId": "12295991303106185198"
     },
     "user_tz": -330
    },
    "id": "CnMTiueoCPfW",
    "outputId": "dc5e39d3-bd09-427f-888e-5a126b6f73e8"
   },
   "outputs": [
    {
     "name": "stdout",
     "output_type": "stream",
     "text": [
      "time: 11.1 ms (started: 2021-06-18 08:49:48 +00:00)\n"
     ]
    }
   ],
   "source": [
    "#importing the libraries\n",
    "import pandas as pd\n",
    "import matplotlib.pyplot as plt\n",
    "\n",
    "from tqdm import tqdm\n",
    "from keras.applications import vgg16\n",
    "from keras.preprocessing import image\n",
    "from keras.applications.vgg16 import preprocess_input        # check if require\n",
    "from keras.applications.resnet50 import ResNet50\n",
    "from keras.models import Model\n",
    "from keras.preprocessing.text import one_hot\n",
    "from keras.preprocessing.sequence import pad_sequences\n",
    "# from keras.utils import to_categorical\n",
    "from keras.utils import np_utils\n",
    "from nltk.translate.bleu_score import sentence_bleu\n",
    "from numpy import array\n",
    "import pickle\n",
    "import numpy as np\n",
    "import os\n",
    "import cv2"
   ]
  },
  {
   "cell_type": "code",
   "execution_count": 54,
   "metadata": {
    "colab": {
     "base_uri": "https://localhost:8080/"
    },
    "executionInfo": {
     "elapsed": 16,
     "status": "ok",
     "timestamp": 1624006288254,
     "user": {
      "displayName": "Mahendra Nandi",
      "photoUrl": "https://lh3.googleusercontent.com/a-/AOh14GiJvHORFQZmkU0oU_6jyOvujzaYNa0qm2rJlreUVKM=s64",
      "userId": "12295991303106185198"
     },
     "user_tz": -330
    },
    "id": "IbeeAz9bCPjP",
    "outputId": "a2a9210c-b3ac-4c81-e9f1-58be6d104fcc"
   },
   "outputs": [
    {
     "name": "stdout",
     "output_type": "stream",
     "text": [
      "Drive already mounted at /content/drive; to attempt to forcibly remount, call drive.mount(\"/content/drive\", force_remount=True).\n",
      "time: 2.57 ms (started: 2021-06-18 08:49:48 +00:00)\n"
     ]
    }
   ],
   "source": [
    "from google.colab import drive\n",
    "drive.mount('/content/drive')"
   ]
  },
  {
   "cell_type": "code",
   "execution_count": 54,
   "metadata": {
    "executionInfo": {
     "elapsed": 14,
     "status": "ok",
     "timestamp": 1624006288254,
     "user": {
      "displayName": "Mahendra Nandi",
      "photoUrl": "https://lh3.googleusercontent.com/a-/AOh14GiJvHORFQZmkU0oU_6jyOvujzaYNa0qm2rJlreUVKM=s64",
      "userId": "12295991303106185198"
     },
     "user_tz": -330
    },
    "id": "kKtjZ7rsCPnI"
   },
   "outputs": [],
   "source": []
  },
  {
   "cell_type": "markdown",
   "metadata": {
    "id": "_voZxegfC4uB"
   },
   "source": [
    "## Data Visualization and Preprocessing"
   ]
  },
  {
   "cell_type": "code",
   "execution_count": 55,
   "metadata": {
    "colab": {
     "base_uri": "https://localhost:8080/"
    },
    "executionInfo": {
     "elapsed": 13,
     "status": "ok",
     "timestamp": 1624006288254,
     "user": {
      "displayName": "Mahendra Nandi",
      "photoUrl": "https://lh3.googleusercontent.com/a-/AOh14GiJvHORFQZmkU0oU_6jyOvujzaYNa0qm2rJlreUVKM=s64",
      "userId": "12295991303106185198"
     },
     "user_tz": -330
    },
    "id": "TM5m_HgNCPqk",
    "outputId": "7d2c5e72-fd36-41c1-f5d6-356105890d63"
   },
   "outputs": [
    {
     "name": "stdout",
     "output_type": "stream",
     "text": [
      "time: 114 ms (started: 2021-06-18 08:49:48 +00:00)\n"
     ]
    }
   ],
   "source": [
    "#converting the text files to pandas dataframe\n",
    "image_tokens=pd.read_csv(\"/content/drive/MyDrive/BDA2020_MN/MAHENDRA_DATASET/Flickr8k_text/Flickr8k.lemma.token.txt\",sep='\\t',names=[\"img_id\",\"img_caption\"])\n",
    "train_image_names=pd.read_csv(\"/content/drive/MyDrive/BDA2020_MN/MAHENDRA_DATASET/Flickr8k_text/Flickr_8k.trainImages.txt\",names=[\"img_id\"])\n",
    "test_image_names=pd.read_csv(\"/content/drive/MyDrive/BDA2020_MN/MAHENDRA_DATASET/Flickr8k_text/Flickr_8k.testImages.txt\",names=[\"img_id\"])\n",
    "val_image_names=pd.read_csv(\"/content/drive/MyDrive/BDA2020_MN/MAHENDRA_DATASET/Flickr8k_text/Flickr_8k.devImages.txt\",names=[\"img_id\"])"
   ]
  },
  {
   "cell_type": "code",
   "execution_count": 56,
   "metadata": {
    "colab": {
     "base_uri": "https://localhost:8080/"
    },
    "executionInfo": {
     "elapsed": 11,
     "status": "ok",
     "timestamp": 1624006288254,
     "user": {
      "displayName": "Mahendra Nandi",
      "photoUrl": "https://lh3.googleusercontent.com/a-/AOh14GiJvHORFQZmkU0oU_6jyOvujzaYNa0qm2rJlreUVKM=s64",
      "userId": "12295991303106185198"
     },
     "user_tz": -330
    },
    "id": "Mm9Rd5zYSFlq",
    "outputId": "a54b912c-c826-4dbb-e1f5-dc850efd26d3"
   },
   "outputs": [
    {
     "data": {
      "text/plain": [
       "0    2513260012_03d33305cf.jpg\n",
       "1    2903617548_d3e38d7f88.jpg\n",
       "Name: img_id, dtype: object"
      ]
     },
     "execution_count": 56,
     "metadata": {
      "tags": []
     },
     "output_type": "execute_result"
    },
    {
     "name": "stdout",
     "output_type": "stream",
     "text": [
      "time: 11.6 ms (started: 2021-06-18 08:49:48 +00:00)\n"
     ]
    }
   ],
   "source": [
    "train_image_names.img_id[0:2]"
   ]
  },
  {
   "cell_type": "code",
   "execution_count": 57,
   "metadata": {
    "colab": {
     "base_uri": "https://localhost:8080/"
    },
    "executionInfo": {
     "elapsed": 10,
     "status": "ok",
     "timestamp": 1624006288255,
     "user": {
      "displayName": "Mahendra Nandi",
      "photoUrl": "https://lh3.googleusercontent.com/a-/AOh14GiJvHORFQZmkU0oU_6jyOvujzaYNa0qm2rJlreUVKM=s64",
      "userId": "12295991303106185198"
     },
     "user_tz": -330
    },
    "id": "SwBfsyKUCPyl",
    "outputId": "88f41f5e-a7b3-4692-cfd7-d271784d2718"
   },
   "outputs": [
    {
     "name": "stdout",
     "output_type": "stream",
     "text": [
      "time: 45.6 ms (started: 2021-06-18 08:49:48 +00:00)\n"
     ]
    }
   ],
   "source": [
    "#removing the #0,#1,#2,#3,#5 from the image ids\n",
    "image_tokens[\"img_id\"]=image_tokens[\"img_id\"].map(lambda x: x[:len(x)-2])\n",
    "image_tokens[\"img_caption\"]=image_tokens[\"img_caption\"].map(lambda x: \"<start> \" + x.strip() + \" <end>\")"
   ]
  },
  {
   "cell_type": "code",
   "execution_count": 58,
   "metadata": {
    "colab": {
     "base_uri": "https://localhost:8080/"
    },
    "executionInfo": {
     "elapsed": 8,
     "status": "ok",
     "timestamp": 1624006288255,
     "user": {
      "displayName": "Mahendra Nandi",
      "photoUrl": "https://lh3.googleusercontent.com/a-/AOh14GiJvHORFQZmkU0oU_6jyOvujzaYNa0qm2rJlreUVKM=s64",
      "userId": "12295991303106185198"
     },
     "user_tz": -330
    },
    "id": "5MBiOZXrCP1-",
    "outputId": "d174bb99-59af-4e05-df35-8e22325e81f1"
   },
   "outputs": [
    {
     "name": "stdout",
     "output_type": "stream",
     "text": [
      "time: 2.58 ms (started: 2021-06-18 08:49:48 +00:00)\n"
     ]
    }
   ],
   "source": [
    "import numpy as np\n",
    "import random\n",
    "a=random.shuffle([i for i in range(10)])\n",
    "a"
   ]
  },
  {
   "cell_type": "markdown",
   "metadata": {
    "id": "BFSv2AyUDWo8"
   },
   "source": [
    "### Creating dictionaries to map image_id and their corresponding captions"
   ]
  },
  {
   "cell_type": "code",
   "execution_count": 59,
   "metadata": {
    "colab": {
     "base_uri": "https://localhost:8080/"
    },
    "executionInfo": {
     "elapsed": 16893,
     "status": "ok",
     "timestamp": 1624006305142,
     "user": {
      "displayName": "Mahendra Nandi",
      "photoUrl": "https://lh3.googleusercontent.com/a-/AOh14GiJvHORFQZmkU0oU_6jyOvujzaYNa0qm2rJlreUVKM=s64",
      "userId": "12295991303106185198"
     },
     "user_tz": -330
    },
    "id": "8Ph2WWkxCP5X",
    "outputId": "fcc02311-27dd-4262-c0f8-d16c544344df"
   },
   "outputs": [
    {
     "name": "stderr",
     "output_type": "stream",
     "text": [
      "100%|██████████| 6000/6000 [00:16<00:00, 359.89it/s]"
     ]
    },
    {
     "name": "stdout",
     "output_type": "stream",
     "text": [
      "time: 16.7 s (started: 2021-06-18 08:49:48 +00:00)\n"
     ]
    },
    {
     "name": "stderr",
     "output_type": "stream",
     "text": [
      "\n"
     ]
    }
   ],
   "source": [
    "#creating train dictionary having key as the image id and value as a list of its captions\n",
    "train_captions={}\n",
    "for i in tqdm(range(len(train_image_names))):\n",
    "  l=[caption for caption in(image_tokens[image_tokens[\"img_id\"]==train_image_names[\"img_id\"].iloc[i]].img_caption)]\n",
    "  train_captions[train_image_names[\"img_id\"].iloc[i]]=l"
   ]
  },
  {
   "cell_type": "code",
   "execution_count": 60,
   "metadata": {
    "colab": {
     "base_uri": "https://localhost:8080/"
    },
    "executionInfo": {
     "elapsed": 2628,
     "status": "ok",
     "timestamp": 1624006307763,
     "user": {
      "displayName": "Mahendra Nandi",
      "photoUrl": "https://lh3.googleusercontent.com/a-/AOh14GiJvHORFQZmkU0oU_6jyOvujzaYNa0qm2rJlreUVKM=s64",
      "userId": "12295991303106185198"
     },
     "user_tz": -330
    },
    "id": "WvAI_UA7CP8v",
    "outputId": "5b194e96-e0f3-49c1-962f-fae8dd0f5401"
   },
   "outputs": [
    {
     "name": "stderr",
     "output_type": "stream",
     "text": [
      "100%|██████████| 1000/1000 [00:02<00:00, 357.82it/s]"
     ]
    },
    {
     "name": "stdout",
     "output_type": "stream",
     "text": [
      "time: 2.81 s (started: 2021-06-18 08:50:05 +00:00)\n"
     ]
    },
    {
     "name": "stderr",
     "output_type": "stream",
     "text": [
      "\n"
     ]
    }
   ],
   "source": [
    "#creating test dictionary having key as the image id and value as a list of its captions\n",
    "test_captions={}\n",
    "for i in tqdm(range(len(test_image_names))):\n",
    "  l=[caption for caption in(image_tokens[image_tokens[\"img_id\"]==test_image_names[\"img_id\"].iloc[i]].img_caption)]\n",
    "  test_captions[test_image_names[\"img_id\"].iloc[i]]=l"
   ]
  },
  {
   "cell_type": "code",
   "execution_count": 61,
   "metadata": {
    "colab": {
     "base_uri": "https://localhost:8080/"
    },
    "executionInfo": {
     "elapsed": 3024,
     "status": "ok",
     "timestamp": 1624006310780,
     "user": {
      "displayName": "Mahendra Nandi",
      "photoUrl": "https://lh3.googleusercontent.com/a-/AOh14GiJvHORFQZmkU0oU_6jyOvujzaYNa0qm2rJlreUVKM=s64",
      "userId": "12295991303106185198"
     },
     "user_tz": -330
    },
    "id": "fjBUw1VnCP_3",
    "outputId": "c07e239f-6421-495d-fd96-5e22b432a8d5"
   },
   "outputs": [
    {
     "name": "stderr",
     "output_type": "stream",
     "text": [
      "100%|██████████| 1000/1000 [00:02<00:00, 351.25it/s]"
     ]
    },
    {
     "name": "stdout",
     "output_type": "stream",
     "text": [
      "time: 2.86 s (started: 2021-06-18 08:50:08 +00:00)\n"
     ]
    },
    {
     "name": "stderr",
     "output_type": "stream",
     "text": [
      "\n"
     ]
    }
   ],
   "source": [
    "#creating validation dictionary having key as the image id and value as a list of its captions\n",
    "validation_captions={}\n",
    "for i in tqdm(range(len(val_image_names))):\n",
    "  l=[caption for caption in(image_tokens[image_tokens[\"img_id\"]==val_image_names[\"img_id\"].iloc[i]].img_caption)]\n",
    "  validation_captions[val_image_names[\"img_id\"].iloc[i]]=l\n",
    "# validation_captions"
   ]
  },
  {
   "cell_type": "code",
   "execution_count": 62,
   "metadata": {
    "colab": {
     "base_uri": "https://localhost:8080/"
    },
    "executionInfo": {
     "elapsed": 12,
     "status": "ok",
     "timestamp": 1624006310780,
     "user": {
      "displayName": "Mahendra Nandi",
      "photoUrl": "https://lh3.googleusercontent.com/a-/AOh14GiJvHORFQZmkU0oU_6jyOvujzaYNa0qm2rJlreUVKM=s64",
      "userId": "12295991303106185198"
     },
     "user_tz": -330
    },
    "id": "fQgobYodCQDg",
    "outputId": "a85d9b58-0b6f-4ff6-87ab-30736117a0d5"
   },
   "outputs": [
    {
     "name": "stdout",
     "output_type": "stream",
     "text": [
      "time: 3.85 ms (started: 2021-06-18 08:50:11 +00:00)\n"
     ]
    }
   ],
   "source": [
    "\n",
    "# pickle_out= open(\"/content/drive/MyDrive/BDA2020_MN/MAHENDRA_DATASET/train_captions.pickle\",\"wb\")\n",
    "# pickle.dump(train_captions,pickle_out)\n",
    "# pickle_out.close()\n",
    "\n",
    "# pickle_out= open(\"/content/drive/MyDrive/BDA2020_MN/MAHENDRA_DATASET/test_captions.pickle\",\"wb\")\n",
    "# pickle.dump(test_captions,pickle_out)\n",
    "# pickle_out.close()\n",
    "\n",
    "# pickle_out= open(\"/content/drive/MyDrive/BDA2020_MN/MAHENDRA_DATASET/validation_captions.pickle\",\"wb\")\n",
    "# pickle.dump(validation_captions,pickle_out)\n",
    "# pickle_out.close()"
   ]
  },
  {
   "cell_type": "code",
   "execution_count": 62,
   "metadata": {
    "executionInfo": {
     "elapsed": 9,
     "status": "ok",
     "timestamp": 1624006310781,
     "user": {
      "displayName": "Mahendra Nandi",
      "photoUrl": "https://lh3.googleusercontent.com/a-/AOh14GiJvHORFQZmkU0oU_6jyOvujzaYNa0qm2rJlreUVKM=s64",
      "userId": "12295991303106185198"
     },
     "user_tz": -330
    },
    "id": "PX0_D8XLCQGY"
   },
   "outputs": [],
   "source": []
  },
  {
   "cell_type": "markdown",
   "metadata": {
    "id": "dOHCCYeqEZ9N"
   },
   "source": [
    "### Setting hyper parameters for vocabulary size and maximum length"
   ]
  },
  {
   "cell_type": "code",
   "execution_count": 63,
   "metadata": {
    "colab": {
     "base_uri": "https://localhost:8080/"
    },
    "executionInfo": {
     "elapsed": 9,
     "status": "ok",
     "timestamp": 1624006310781,
     "user": {
      "displayName": "Mahendra Nandi",
      "photoUrl": "https://lh3.googleusercontent.com/a-/AOh14GiJvHORFQZmkU0oU_6jyOvujzaYNa0qm2rJlreUVKM=s64",
      "userId": "12295991303106185198"
     },
     "user_tz": -330
    },
    "id": "aHZhjltDCQKB",
    "outputId": "75a1c273-1ad5-47cb-bb7b-396a9699256a"
   },
   "outputs": [
    {
     "name": "stderr",
     "output_type": "stream",
     "text": [
      "100%|██████████| 6000/6000 [00:00<00:00, 228120.74it/s]\n"
     ]
    },
    {
     "name": "stdout",
     "output_type": "stream",
     "text": [
      "\n",
      "1991192\n",
      "6328\n",
      "time: 119 ms (started: 2021-06-18 08:50:11 +00:00)\n"
     ]
    }
   ],
   "source": [
    "all_captions=[]\n",
    "for img_id in tqdm(train_captions):\n",
    "  for captions in train_captions[img_id]:\n",
    "    all_captions.append(captions)\n",
    "\n",
    "all_words=\" \".join(all_captions)\n",
    "print()\n",
    "print(len(all_words))\n",
    "unique_words=list(sorted(set(all_words.strip().split(\" \"))))\n",
    "print(len(unique_words))\n"
   ]
  },
  {
   "cell_type": "code",
   "execution_count": 64,
   "metadata": {
    "colab": {
     "base_uri": "https://localhost:8080/"
    },
    "executionInfo": {
     "elapsed": 5,
     "status": "ok",
     "timestamp": 1624006310781,
     "user": {
      "displayName": "Mahendra Nandi",
      "photoUrl": "https://lh3.googleusercontent.com/a-/AOh14GiJvHORFQZmkU0oU_6jyOvujzaYNa0qm2rJlreUVKM=s64",
      "userId": "12295991303106185198"
     },
     "user_tz": -330
    },
    "id": "NrlmLyg1E0la",
    "outputId": "3d8962f2-271f-441a-c594-ca2328a54693"
   },
   "outputs": [
    {
     "name": "stdout",
     "output_type": "stream",
     "text": [
      "time: 8.34 ms (started: 2021-06-18 08:50:11 +00:00)\n"
     ]
    }
   ],
   "source": [
    "#defining max_length and vocabulary size\n",
    "vocab_size=len(unique_words)+1\n",
    "max_length=40"
   ]
  },
  {
   "cell_type": "markdown",
   "metadata": {
    "id": "EAulFthDFBwu"
   },
   "source": [
    "### Creating dictionaries containg mapping of words to indices and indices to words"
   ]
  },
  {
   "cell_type": "code",
   "execution_count": 40,
   "metadata": {
    "colab": {
     "base_uri": "https://localhost:8080/"
    },
    "executionInfo": {
     "elapsed": 538,
     "status": "ok",
     "timestamp": 1623999986116,
     "user": {
      "displayName": "Mahendra Nandi",
      "photoUrl": "https://lh3.googleusercontent.com/a-/AOh14GiJvHORFQZmkU0oU_6jyOvujzaYNa0qm2rJlreUVKM=s64",
      "userId": "12295991303106185198"
     },
     "user_tz": -330
    },
    "id": "a5JOkEJzE0tQ",
    "outputId": "ae60126a-d886-40e3-cee1-8c7d466cc057"
   },
   "outputs": [
    {
     "name": "stdout",
     "output_type": "stream",
     "text": [
      "time: 10.6 ms (started: 2021-06-18 07:04:46 +00:00)\n"
     ]
    }
   ],
   "source": [
    "#forming dictionaries containg mapping of words to indices and indices to words\n",
    "words_to_indices={val:index+1 for index, val in enumerate(unique_words)}\n",
    "indices_to_words = { index+1:val for index, val in enumerate(unique_words)}\n",
    "words_to_indices[\"Unk\"]=0\n",
    "indices_to_words[0]=\"Unk\""
   ]
  },
  {
   "cell_type": "markdown",
   "metadata": {
    "id": "_TTvFj7NFFg2"
   },
   "source": [
    "### Transforming data into dictonary mapping of image_id to encoded captions"
   ]
  },
  {
   "cell_type": "code",
   "execution_count": 43,
   "metadata": {
    "colab": {
     "base_uri": "https://localhost:8080/"
    },
    "executionInfo": {
     "elapsed": 1201,
     "status": "ok",
     "timestamp": 1624001774363,
     "user": {
      "displayName": "Mahendra Nandi",
      "photoUrl": "https://lh3.googleusercontent.com/a-/AOh14GiJvHORFQZmkU0oU_6jyOvujzaYNa0qm2rJlreUVKM=s64",
      "userId": "12295991303106185198"
     },
     "user_tz": -330
    },
    "id": "MDcxeEJOE-Vb",
    "outputId": "8a5a8591-5623-46c4-ea86-97c39dff65bf"
   },
   "outputs": [
    {
     "name": "stderr",
     "output_type": "stream",
     "text": [
      "100%|██████████| 6000/6000 [00:00<00:00, 22367.93it/s]\n",
      "100%|██████████| 6000/6000 [00:00<00:00, 26297.79it/s]"
     ]
    },
    {
     "name": "stdout",
     "output_type": "stream",
     "text": [
      "time: 515 ms (started: 2021-06-18 07:34:34 +00:00)\n"
     ]
    },
    {
     "name": "stderr",
     "output_type": "stream",
     "text": [
      "\n"
     ]
    }
   ],
   "source": [
    "# #forming dictionary having encoded captions\n",
    "# max_length=40\n",
    "# train_encoded_captions={}\n",
    "# for img_id in tqdm(train_captions):\n",
    "#   train_encoded_captions[img_id]=[]\n",
    "#   for i in range(5):\n",
    "#     train_encoded_captions[img_id].append([words_to_indices[s] for s in train_captions[img_id][i].split(\" \")])\n",
    "\n",
    "# for img_id in tqdm(train_encoded_captions):\n",
    "#   train_encoded_captions[img_id]=pad_sequences(train_encoded_captions[img_id], maxlen=max_length, padding='post')"
   ]
  },
  {
   "cell_type": "code",
   "execution_count": 44,
   "metadata": {
    "colab": {
     "base_uri": "https://localhost:8080/"
    },
    "executionInfo": {
     "elapsed": 451,
     "status": "ok",
     "timestamp": 1624001780571,
     "user": {
      "displayName": "Mahendra Nandi",
      "photoUrl": "https://lh3.googleusercontent.com/a-/AOh14GiJvHORFQZmkU0oU_6jyOvujzaYNa0qm2rJlreUVKM=s64",
      "userId": "12295991303106185198"
     },
     "user_tz": -330
    },
    "id": "Ww-ZLdr2IDAw",
    "outputId": "f5884c54-52ed-4a8d-8c5f-001656394b65"
   },
   "outputs": [
    {
     "name": "stderr",
     "output_type": "stream",
     "text": [
      "100%|██████████| 1000/1000 [00:00<00:00, 38365.46it/s]\n",
      "100%|██████████| 1000/1000 [00:00<00:00, 17758.25it/s]"
     ]
    },
    {
     "name": "stdout",
     "output_type": "stream",
     "text": [
      "time: 101 ms (started: 2021-06-18 07:34:41 +00:00)\n"
     ]
    },
    {
     "name": "stderr",
     "output_type": "stream",
     "text": [
      "\n"
     ]
    }
   ],
   "source": [
    "# #forming dictionary having encoded captions\n",
    "# test_encoded_captions={}\n",
    "# for img_id in tqdm(test_captions):\n",
    "#   test_encoded_captions[img_id]=[]\n",
    "#   for i in range(5):\n",
    "#     test_encoded_captions[img_id].append([words_to_indices[s] for s in test_captions[img_id][i].split(\" \") if s in words_to_indices ])\n",
    "\n",
    "# for img_id in tqdm(test_encoded_captions):\n",
    "#   test_encoded_captions[img_id]=pad_sequences(test_encoded_captions[img_id], maxlen=max_length, padding='post')"
   ]
  },
  {
   "cell_type": "code",
   "execution_count": 45,
   "metadata": {
    "colab": {
     "base_uri": "https://localhost:8080/"
    },
    "executionInfo": {
     "elapsed": 4,
     "status": "ok",
     "timestamp": 1624001783869,
     "user": {
      "displayName": "Mahendra Nandi",
      "photoUrl": "https://lh3.googleusercontent.com/a-/AOh14GiJvHORFQZmkU0oU_6jyOvujzaYNa0qm2rJlreUVKM=s64",
      "userId": "12295991303106185198"
     },
     "user_tz": -330
    },
    "id": "LZKceoBGLUIt",
    "outputId": "b03d1157-9076-4c05-9100-cc0a8fd2903d"
   },
   "outputs": [
    {
     "name": "stderr",
     "output_type": "stream",
     "text": [
      "100%|██████████| 1000/1000 [00:00<00:00, 42401.83it/s]\n",
      "100%|██████████| 1000/1000 [00:00<00:00, 29221.68it/s]"
     ]
    },
    {
     "name": "stdout",
     "output_type": "stream",
     "text": [
      "time: 75.4 ms (started: 2021-06-18 07:34:44 +00:00)\n"
     ]
    },
    {
     "name": "stderr",
     "output_type": "stream",
     "text": [
      "\n"
     ]
    }
   ],
   "source": [
    "# #forming dictionary having encoded captions\n",
    "# validation_encoded_captions={}\n",
    "# for img_id in tqdm(validation_captions):\n",
    "#   validation_encoded_captions[img_id]=[]\n",
    "#   for i in range(5):\n",
    "#     validation_encoded_captions[img_id].append([words_to_indices[s] for s in validation_captions[img_id][i].split(\" \") if s in words_to_indices ])\n",
    "\n",
    "# for img_id in tqdm(validation_encoded_captions):\n",
    "#   validation_encoded_captions[img_id]=pad_sequences(validation_encoded_captions[img_id], maxlen=max_length, padding='post')"
   ]
  },
  {
   "cell_type": "code",
   "execution_count": 68,
   "metadata": {
    "colab": {
     "base_uri": "https://localhost:8080/"
    },
    "executionInfo": {
     "elapsed": 465,
     "status": "ok",
     "timestamp": 1624006488998,
     "user": {
      "displayName": "Mahendra Nandi",
      "photoUrl": "https://lh3.googleusercontent.com/a-/AOh14GiJvHORFQZmkU0oU_6jyOvujzaYNa0qm2rJlreUVKM=s64",
      "userId": "12295991303106185198"
     },
     "user_tz": -330
    },
    "id": "OFv6xX_aDVjz",
    "outputId": "dce1e25b-894b-4a89-963f-d085fe514069"
   },
   "outputs": [
    {
     "name": "stdout",
     "output_type": "stream",
     "text": [
      "time: 17 ms (started: 2021-06-18 08:53:09 +00:00)\n"
     ]
    }
   ],
   "source": [
    "def encoding_captions(train_captions,test_captions,validation_captions,max_length ):\n",
    "  TTV=[train_captions,test_captions,validation_captions]\n",
    "  train_encoded_captions={}\n",
    "  test_encoded_captions={}\n",
    "  validation_encoded_captions={}\n",
    "  encoded_dictionaries=[train_encoded_captions,test_encoded_captions,validation_encoded_captions]\n",
    "  \n",
    "  for j in range(3):\n",
    "    ttv=TTV[j]\n",
    "    encded_dict=encoded_dictionaries[j]\n",
    "    \n",
    "    for img_id in tqdm(ttv):\n",
    "      encded_dict[img_id]=[]\n",
    "      for i in range(5):\n",
    "        encded_dict[img_id].append([words_to_indices[s] for s in ttv[img_id][i].split(\" \") if s in words_to_indices ])\n",
    "    \n",
    "    for img_id in tqdm(encded_dict):\n",
    "      encded_dict[img_id]=pad_sequences(encded_dict[img_id], maxlen=max_length, padding='post')\n",
    "  return train_encoded_captions,test_encoded_captions,validation_encoded_captions"
   ]
  },
  {
   "cell_type": "code",
   "execution_count": 69,
   "metadata": {
    "colab": {
     "base_uri": "https://localhost:8080/"
    },
    "executionInfo": {
     "elapsed": 473,
     "status": "ok",
     "timestamp": 1624006524093,
     "user": {
      "displayName": "Mahendra Nandi",
      "photoUrl": "https://lh3.googleusercontent.com/a-/AOh14GiJvHORFQZmkU0oU_6jyOvujzaYNa0qm2rJlreUVKM=s64",
      "userId": "12295991303106185198"
     },
     "user_tz": -330
    },
    "id": "g16OrJ85DV71",
    "outputId": "cbf03aea-d4bf-4a9a-e9c9-48f618748ca9"
   },
   "outputs": [
    {
     "name": "stderr",
     "output_type": "stream",
     "text": [
      "100%|██████████| 6000/6000 [00:00<00:00, 44304.39it/s]\n",
      "100%|██████████| 6000/6000 [00:00<00:00, 24704.95it/s]\n",
      "100%|██████████| 1000/1000 [00:00<00:00, 43676.11it/s]\n",
      "100%|██████████| 1000/1000 [00:00<00:00, 20723.46it/s]\n",
      "100%|██████████| 1000/1000 [00:00<00:00, 37267.13it/s]\n",
      "100%|██████████| 1000/1000 [00:00<00:00, 22062.40it/s]"
     ]
    },
    {
     "name": "stdout",
     "output_type": "stream",
     "text": [
      "time: 566 ms (started: 2021-06-18 08:53:44 +00:00)\n"
     ]
    },
    {
     "name": "stderr",
     "output_type": "stream",
     "text": [
      "\n"
     ]
    }
   ],
   "source": [
    "train_encoded_captions,test_encoded_captions,validation_encoded_captions=encoding_captions(train_captions,test_captions,validation_captions,max_length )"
   ]
  },
  {
   "cell_type": "code",
   "execution_count": null,
   "metadata": {
    "id": "wpDyC8r5DWTi"
   },
   "outputs": [],
   "source": []
  },
  {
   "cell_type": "code",
   "execution_count": null,
   "metadata": {
    "colab": {
     "base_uri": "https://localhost:8080/"
    },
    "executionInfo": {
     "elapsed": 4,
     "status": "ok",
     "timestamp": 1621673074734,
     "user": {
      "displayName": "Mahendra Nandi",
      "photoUrl": "https://lh3.googleusercontent.com/a-/AOh14GiJvHORFQZmkU0oU_6jyOvujzaYNa0qm2rJlreUVKM=s64",
      "userId": "12295991303106185198"
     },
     "user_tz": -330
    },
    "id": "d8_Fh65xE-fm",
    "outputId": "e93280f7-70b0-4cc2-a8d3-88e6379ae5e9"
   },
   "outputs": [
    {
     "name": "stdout",
     "output_type": "stream",
     "text": [
      "time: 3.49 ms (started: 2021-05-22 08:43:19 +00:00)\n"
     ]
    }
   ],
   "source": [
    "\n",
    "# pickle_out= open(\"/content/drive/MyDrive/BDA2020_MN/MAHENDRA_DATASET/words_to_indices.pickle\",\"wb\")\n",
    "# pickle.dump(words_to_indices,pickle_out)\n",
    "# pickle_out.close()\n",
    "\n",
    "\n",
    "# pickle_out= open(\"/content/drive/MyDrive/BDA2020_MN/MAHENDRA_DATASET/indices_to_words.pickle\",\"wb\")\n",
    "# pickle.dump(indices_to_words,pickle_out)\n",
    "# pickle_out.close()\n",
    "\n",
    "# pickle_out= open(\"/content/drive/MyDrive/BDA2020_MN/MAHENDRA_DATASET/train_encoded_captions.pickle\",\"wb\")\n",
    "# pickle.dump(train_encoded_captions,pickle_out)\n",
    "# pickle_out.close()\n",
    "\n",
    "# pickle_out= open(\"/content/drive/MyDrive/BDA2020_MN/MAHENDRA_DATASET/test_encoded_captions.pickle\",\"wb\")                                 # I did intensionally it later \n",
    "# pickle.dump(test_encoded_captions,pickle_out)\n",
    "# pickle_out.close()\n",
    "\n",
    "# pickle_out= open(\"/content/drive/MyDrive/BDA2020_MN/MAHENDRA_DATASET/validation_encoded_captions.pickle\",\"wb\")                                 # I did intensionally it later \n",
    "# pickle.dump(validation_encoded_captions,pickle_out)\n",
    "# pickle_out.close()"
   ]
  },
  {
   "cell_type": "code",
   "execution_count": null,
   "metadata": {
    "id": "cP7MzURqE0yu"
   },
   "outputs": [],
   "source": []
  },
  {
   "cell_type": "markdown",
   "metadata": {
    "id": "HJ5yM4cSDt-O"
   },
   "source": [
    "## ResNet50 model for encoding images"
   ]
  },
  {
   "cell_type": "code",
   "execution_count": null,
   "metadata": {
    "colab": {
     "base_uri": "https://localhost:8080/"
    },
    "executionInfo": {
     "elapsed": 2024,
     "status": "ok",
     "timestamp": 1621673076755,
     "user": {
      "displayName": "Mahendra Nandi",
      "photoUrl": "https://lh3.googleusercontent.com/a-/AOh14GiJvHORFQZmkU0oU_6jyOvujzaYNa0qm2rJlreUVKM=s64",
      "userId": "12295991303106185198"
     },
     "user_tz": -330
    },
    "id": "9jGdnKvOCQNa",
    "outputId": "4993c9ee-20e3-4774-cc1e-dee46783afa3"
   },
   "outputs": [
    {
     "name": "stdout",
     "output_type": "stream",
     "text": [
      "Model: \"resnet50\"\n",
      "__________________________________________________________________________________________________\n",
      "Layer (type)                    Output Shape         Param #     Connected to                     \n",
      "==================================================================================================\n",
      "input_1 (InputLayer)            [(None, 224, 224, 3) 0                                            \n",
      "__________________________________________________________________________________________________\n",
      "conv1_pad (ZeroPadding2D)       (None, 230, 230, 3)  0           input_1[0][0]                    \n",
      "__________________________________________________________________________________________________\n",
      "conv1_conv (Conv2D)             (None, 112, 112, 64) 9472        conv1_pad[0][0]                  \n",
      "__________________________________________________________________________________________________\n",
      "conv1_bn (BatchNormalization)   (None, 112, 112, 64) 256         conv1_conv[0][0]                 \n",
      "__________________________________________________________________________________________________\n",
      "conv1_relu (Activation)         (None, 112, 112, 64) 0           conv1_bn[0][0]                   \n",
      "__________________________________________________________________________________________________\n",
      "pool1_pad (ZeroPadding2D)       (None, 114, 114, 64) 0           conv1_relu[0][0]                 \n",
      "__________________________________________________________________________________________________\n",
      "pool1_pool (MaxPooling2D)       (None, 56, 56, 64)   0           pool1_pad[0][0]                  \n",
      "__________________________________________________________________________________________________\n",
      "conv2_block1_1_conv (Conv2D)    (None, 56, 56, 64)   4160        pool1_pool[0][0]                 \n",
      "__________________________________________________________________________________________________\n",
      "conv2_block1_1_bn (BatchNormali (None, 56, 56, 64)   256         conv2_block1_1_conv[0][0]        \n",
      "__________________________________________________________________________________________________\n",
      "conv2_block1_1_relu (Activation (None, 56, 56, 64)   0           conv2_block1_1_bn[0][0]          \n",
      "__________________________________________________________________________________________________\n",
      "conv2_block1_2_conv (Conv2D)    (None, 56, 56, 64)   36928       conv2_block1_1_relu[0][0]        \n",
      "__________________________________________________________________________________________________\n",
      "conv2_block1_2_bn (BatchNormali (None, 56, 56, 64)   256         conv2_block1_2_conv[0][0]        \n",
      "__________________________________________________________________________________________________\n",
      "conv2_block1_2_relu (Activation (None, 56, 56, 64)   0           conv2_block1_2_bn[0][0]          \n",
      "__________________________________________________________________________________________________\n",
      "conv2_block1_0_conv (Conv2D)    (None, 56, 56, 256)  16640       pool1_pool[0][0]                 \n",
      "__________________________________________________________________________________________________\n",
      "conv2_block1_3_conv (Conv2D)    (None, 56, 56, 256)  16640       conv2_block1_2_relu[0][0]        \n",
      "__________________________________________________________________________________________________\n",
      "conv2_block1_0_bn (BatchNormali (None, 56, 56, 256)  1024        conv2_block1_0_conv[0][0]        \n",
      "__________________________________________________________________________________________________\n",
      "conv2_block1_3_bn (BatchNormali (None, 56, 56, 256)  1024        conv2_block1_3_conv[0][0]        \n",
      "__________________________________________________________________________________________________\n",
      "conv2_block1_add (Add)          (None, 56, 56, 256)  0           conv2_block1_0_bn[0][0]          \n",
      "                                                                 conv2_block1_3_bn[0][0]          \n",
      "__________________________________________________________________________________________________\n",
      "conv2_block1_out (Activation)   (None, 56, 56, 256)  0           conv2_block1_add[0][0]           \n",
      "__________________________________________________________________________________________________\n",
      "conv2_block2_1_conv (Conv2D)    (None, 56, 56, 64)   16448       conv2_block1_out[0][0]           \n",
      "__________________________________________________________________________________________________\n",
      "conv2_block2_1_bn (BatchNormali (None, 56, 56, 64)   256         conv2_block2_1_conv[0][0]        \n",
      "__________________________________________________________________________________________________\n",
      "conv2_block2_1_relu (Activation (None, 56, 56, 64)   0           conv2_block2_1_bn[0][0]          \n",
      "__________________________________________________________________________________________________\n",
      "conv2_block2_2_conv (Conv2D)    (None, 56, 56, 64)   36928       conv2_block2_1_relu[0][0]        \n",
      "__________________________________________________________________________________________________\n",
      "conv2_block2_2_bn (BatchNormali (None, 56, 56, 64)   256         conv2_block2_2_conv[0][0]        \n",
      "__________________________________________________________________________________________________\n",
      "conv2_block2_2_relu (Activation (None, 56, 56, 64)   0           conv2_block2_2_bn[0][0]          \n",
      "__________________________________________________________________________________________________\n",
      "conv2_block2_3_conv (Conv2D)    (None, 56, 56, 256)  16640       conv2_block2_2_relu[0][0]        \n",
      "__________________________________________________________________________________________________\n",
      "conv2_block2_3_bn (BatchNormali (None, 56, 56, 256)  1024        conv2_block2_3_conv[0][0]        \n",
      "__________________________________________________________________________________________________\n",
      "conv2_block2_add (Add)          (None, 56, 56, 256)  0           conv2_block1_out[0][0]           \n",
      "                                                                 conv2_block2_3_bn[0][0]          \n",
      "__________________________________________________________________________________________________\n",
      "conv2_block2_out (Activation)   (None, 56, 56, 256)  0           conv2_block2_add[0][0]           \n",
      "__________________________________________________________________________________________________\n",
      "conv2_block3_1_conv (Conv2D)    (None, 56, 56, 64)   16448       conv2_block2_out[0][0]           \n",
      "__________________________________________________________________________________________________\n",
      "conv2_block3_1_bn (BatchNormali (None, 56, 56, 64)   256         conv2_block3_1_conv[0][0]        \n",
      "__________________________________________________________________________________________________\n",
      "conv2_block3_1_relu (Activation (None, 56, 56, 64)   0           conv2_block3_1_bn[0][0]          \n",
      "__________________________________________________________________________________________________\n",
      "conv2_block3_2_conv (Conv2D)    (None, 56, 56, 64)   36928       conv2_block3_1_relu[0][0]        \n",
      "__________________________________________________________________________________________________\n",
      "conv2_block3_2_bn (BatchNormali (None, 56, 56, 64)   256         conv2_block3_2_conv[0][0]        \n",
      "__________________________________________________________________________________________________\n",
      "conv2_block3_2_relu (Activation (None, 56, 56, 64)   0           conv2_block3_2_bn[0][0]          \n",
      "__________________________________________________________________________________________________\n",
      "conv2_block3_3_conv (Conv2D)    (None, 56, 56, 256)  16640       conv2_block3_2_relu[0][0]        \n",
      "__________________________________________________________________________________________________\n",
      "conv2_block3_3_bn (BatchNormali (None, 56, 56, 256)  1024        conv2_block3_3_conv[0][0]        \n",
      "__________________________________________________________________________________________________\n",
      "conv2_block3_add (Add)          (None, 56, 56, 256)  0           conv2_block2_out[0][0]           \n",
      "                                                                 conv2_block3_3_bn[0][0]          \n",
      "__________________________________________________________________________________________________\n",
      "conv2_block3_out (Activation)   (None, 56, 56, 256)  0           conv2_block3_add[0][0]           \n",
      "__________________________________________________________________________________________________\n",
      "conv3_block1_1_conv (Conv2D)    (None, 28, 28, 128)  32896       conv2_block3_out[0][0]           \n",
      "__________________________________________________________________________________________________\n",
      "conv3_block1_1_bn (BatchNormali (None, 28, 28, 128)  512         conv3_block1_1_conv[0][0]        \n",
      "__________________________________________________________________________________________________\n",
      "conv3_block1_1_relu (Activation (None, 28, 28, 128)  0           conv3_block1_1_bn[0][0]          \n",
      "__________________________________________________________________________________________________\n",
      "conv3_block1_2_conv (Conv2D)    (None, 28, 28, 128)  147584      conv3_block1_1_relu[0][0]        \n",
      "__________________________________________________________________________________________________\n",
      "conv3_block1_2_bn (BatchNormali (None, 28, 28, 128)  512         conv3_block1_2_conv[0][0]        \n",
      "__________________________________________________________________________________________________\n",
      "conv3_block1_2_relu (Activation (None, 28, 28, 128)  0           conv3_block1_2_bn[0][0]          \n",
      "__________________________________________________________________________________________________\n",
      "conv3_block1_0_conv (Conv2D)    (None, 28, 28, 512)  131584      conv2_block3_out[0][0]           \n",
      "__________________________________________________________________________________________________\n",
      "conv3_block1_3_conv (Conv2D)    (None, 28, 28, 512)  66048       conv3_block1_2_relu[0][0]        \n",
      "__________________________________________________________________________________________________\n",
      "conv3_block1_0_bn (BatchNormali (None, 28, 28, 512)  2048        conv3_block1_0_conv[0][0]        \n",
      "__________________________________________________________________________________________________\n",
      "conv3_block1_3_bn (BatchNormali (None, 28, 28, 512)  2048        conv3_block1_3_conv[0][0]        \n",
      "__________________________________________________________________________________________________\n",
      "conv3_block1_add (Add)          (None, 28, 28, 512)  0           conv3_block1_0_bn[0][0]          \n",
      "                                                                 conv3_block1_3_bn[0][0]          \n",
      "__________________________________________________________________________________________________\n",
      "conv3_block1_out (Activation)   (None, 28, 28, 512)  0           conv3_block1_add[0][0]           \n",
      "__________________________________________________________________________________________________\n",
      "conv3_block2_1_conv (Conv2D)    (None, 28, 28, 128)  65664       conv3_block1_out[0][0]           \n",
      "__________________________________________________________________________________________________\n",
      "conv3_block2_1_bn (BatchNormali (None, 28, 28, 128)  512         conv3_block2_1_conv[0][0]        \n",
      "__________________________________________________________________________________________________\n",
      "conv3_block2_1_relu (Activation (None, 28, 28, 128)  0           conv3_block2_1_bn[0][0]          \n",
      "__________________________________________________________________________________________________\n",
      "conv3_block2_2_conv (Conv2D)    (None, 28, 28, 128)  147584      conv3_block2_1_relu[0][0]        \n",
      "__________________________________________________________________________________________________\n",
      "conv3_block2_2_bn (BatchNormali (None, 28, 28, 128)  512         conv3_block2_2_conv[0][0]        \n",
      "__________________________________________________________________________________________________\n",
      "conv3_block2_2_relu (Activation (None, 28, 28, 128)  0           conv3_block2_2_bn[0][0]          \n",
      "__________________________________________________________________________________________________\n",
      "conv3_block2_3_conv (Conv2D)    (None, 28, 28, 512)  66048       conv3_block2_2_relu[0][0]        \n",
      "__________________________________________________________________________________________________\n",
      "conv3_block2_3_bn (BatchNormali (None, 28, 28, 512)  2048        conv3_block2_3_conv[0][0]        \n",
      "__________________________________________________________________________________________________\n",
      "conv3_block2_add (Add)          (None, 28, 28, 512)  0           conv3_block1_out[0][0]           \n",
      "                                                                 conv3_block2_3_bn[0][0]          \n",
      "__________________________________________________________________________________________________\n",
      "conv3_block2_out (Activation)   (None, 28, 28, 512)  0           conv3_block2_add[0][0]           \n",
      "__________________________________________________________________________________________________\n",
      "conv3_block3_1_conv (Conv2D)    (None, 28, 28, 128)  65664       conv3_block2_out[0][0]           \n",
      "__________________________________________________________________________________________________\n",
      "conv3_block3_1_bn (BatchNormali (None, 28, 28, 128)  512         conv3_block3_1_conv[0][0]        \n",
      "__________________________________________________________________________________________________\n",
      "conv3_block3_1_relu (Activation (None, 28, 28, 128)  0           conv3_block3_1_bn[0][0]          \n",
      "__________________________________________________________________________________________________\n",
      "conv3_block3_2_conv (Conv2D)    (None, 28, 28, 128)  147584      conv3_block3_1_relu[0][0]        \n",
      "__________________________________________________________________________________________________\n",
      "conv3_block3_2_bn (BatchNormali (None, 28, 28, 128)  512         conv3_block3_2_conv[0][0]        \n",
      "__________________________________________________________________________________________________\n",
      "conv3_block3_2_relu (Activation (None, 28, 28, 128)  0           conv3_block3_2_bn[0][0]          \n",
      "__________________________________________________________________________________________________\n",
      "conv3_block3_3_conv (Conv2D)    (None, 28, 28, 512)  66048       conv3_block3_2_relu[0][0]        \n",
      "__________________________________________________________________________________________________\n",
      "conv3_block3_3_bn (BatchNormali (None, 28, 28, 512)  2048        conv3_block3_3_conv[0][0]        \n",
      "__________________________________________________________________________________________________\n",
      "conv3_block3_add (Add)          (None, 28, 28, 512)  0           conv3_block2_out[0][0]           \n",
      "                                                                 conv3_block3_3_bn[0][0]          \n",
      "__________________________________________________________________________________________________\n",
      "conv3_block3_out (Activation)   (None, 28, 28, 512)  0           conv3_block3_add[0][0]           \n",
      "__________________________________________________________________________________________________\n",
      "conv3_block4_1_conv (Conv2D)    (None, 28, 28, 128)  65664       conv3_block3_out[0][0]           \n",
      "__________________________________________________________________________________________________\n",
      "conv3_block4_1_bn (BatchNormali (None, 28, 28, 128)  512         conv3_block4_1_conv[0][0]        \n",
      "__________________________________________________________________________________________________\n",
      "conv3_block4_1_relu (Activation (None, 28, 28, 128)  0           conv3_block4_1_bn[0][0]          \n",
      "__________________________________________________________________________________________________\n",
      "conv3_block4_2_conv (Conv2D)    (None, 28, 28, 128)  147584      conv3_block4_1_relu[0][0]        \n",
      "__________________________________________________________________________________________________\n",
      "conv3_block4_2_bn (BatchNormali (None, 28, 28, 128)  512         conv3_block4_2_conv[0][0]        \n",
      "__________________________________________________________________________________________________\n",
      "conv3_block4_2_relu (Activation (None, 28, 28, 128)  0           conv3_block4_2_bn[0][0]          \n",
      "__________________________________________________________________________________________________\n",
      "conv3_block4_3_conv (Conv2D)    (None, 28, 28, 512)  66048       conv3_block4_2_relu[0][0]        \n",
      "__________________________________________________________________________________________________\n",
      "conv3_block4_3_bn (BatchNormali (None, 28, 28, 512)  2048        conv3_block4_3_conv[0][0]        \n",
      "__________________________________________________________________________________________________\n",
      "conv3_block4_add (Add)          (None, 28, 28, 512)  0           conv3_block3_out[0][0]           \n",
      "                                                                 conv3_block4_3_bn[0][0]          \n",
      "__________________________________________________________________________________________________\n",
      "conv3_block4_out (Activation)   (None, 28, 28, 512)  0           conv3_block4_add[0][0]           \n",
      "__________________________________________________________________________________________________\n",
      "conv4_block1_1_conv (Conv2D)    (None, 14, 14, 256)  131328      conv3_block4_out[0][0]           \n",
      "__________________________________________________________________________________________________\n",
      "conv4_block1_1_bn (BatchNormali (None, 14, 14, 256)  1024        conv4_block1_1_conv[0][0]        \n",
      "__________________________________________________________________________________________________\n",
      "conv4_block1_1_relu (Activation (None, 14, 14, 256)  0           conv4_block1_1_bn[0][0]          \n",
      "__________________________________________________________________________________________________\n",
      "conv4_block1_2_conv (Conv2D)    (None, 14, 14, 256)  590080      conv4_block1_1_relu[0][0]        \n",
      "__________________________________________________________________________________________________\n",
      "conv4_block1_2_bn (BatchNormali (None, 14, 14, 256)  1024        conv4_block1_2_conv[0][0]        \n",
      "__________________________________________________________________________________________________\n",
      "conv4_block1_2_relu (Activation (None, 14, 14, 256)  0           conv4_block1_2_bn[0][0]          \n",
      "__________________________________________________________________________________________________\n",
      "conv4_block1_0_conv (Conv2D)    (None, 14, 14, 1024) 525312      conv3_block4_out[0][0]           \n",
      "__________________________________________________________________________________________________\n",
      "conv4_block1_3_conv (Conv2D)    (None, 14, 14, 1024) 263168      conv4_block1_2_relu[0][0]        \n",
      "__________________________________________________________________________________________________\n",
      "conv4_block1_0_bn (BatchNormali (None, 14, 14, 1024) 4096        conv4_block1_0_conv[0][0]        \n",
      "__________________________________________________________________________________________________\n",
      "conv4_block1_3_bn (BatchNormali (None, 14, 14, 1024) 4096        conv4_block1_3_conv[0][0]        \n",
      "__________________________________________________________________________________________________\n",
      "conv4_block1_add (Add)          (None, 14, 14, 1024) 0           conv4_block1_0_bn[0][0]          \n",
      "                                                                 conv4_block1_3_bn[0][0]          \n",
      "__________________________________________________________________________________________________\n",
      "conv4_block1_out (Activation)   (None, 14, 14, 1024) 0           conv4_block1_add[0][0]           \n",
      "__________________________________________________________________________________________________\n",
      "conv4_block2_1_conv (Conv2D)    (None, 14, 14, 256)  262400      conv4_block1_out[0][0]           \n",
      "__________________________________________________________________________________________________\n",
      "conv4_block2_1_bn (BatchNormali (None, 14, 14, 256)  1024        conv4_block2_1_conv[0][0]        \n",
      "__________________________________________________________________________________________________\n",
      "conv4_block2_1_relu (Activation (None, 14, 14, 256)  0           conv4_block2_1_bn[0][0]          \n",
      "__________________________________________________________________________________________________\n",
      "conv4_block2_2_conv (Conv2D)    (None, 14, 14, 256)  590080      conv4_block2_1_relu[0][0]        \n",
      "__________________________________________________________________________________________________\n",
      "conv4_block2_2_bn (BatchNormali (None, 14, 14, 256)  1024        conv4_block2_2_conv[0][0]        \n",
      "__________________________________________________________________________________________________\n",
      "conv4_block2_2_relu (Activation (None, 14, 14, 256)  0           conv4_block2_2_bn[0][0]          \n",
      "__________________________________________________________________________________________________\n",
      "conv4_block2_3_conv (Conv2D)    (None, 14, 14, 1024) 263168      conv4_block2_2_relu[0][0]        \n",
      "__________________________________________________________________________________________________\n",
      "conv4_block2_3_bn (BatchNormali (None, 14, 14, 1024) 4096        conv4_block2_3_conv[0][0]        \n",
      "__________________________________________________________________________________________________\n",
      "conv4_block2_add (Add)          (None, 14, 14, 1024) 0           conv4_block1_out[0][0]           \n",
      "                                                                 conv4_block2_3_bn[0][0]          \n",
      "__________________________________________________________________________________________________\n",
      "conv4_block2_out (Activation)   (None, 14, 14, 1024) 0           conv4_block2_add[0][0]           \n",
      "__________________________________________________________________________________________________\n",
      "conv4_block3_1_conv (Conv2D)    (None, 14, 14, 256)  262400      conv4_block2_out[0][0]           \n",
      "__________________________________________________________________________________________________\n",
      "conv4_block3_1_bn (BatchNormali (None, 14, 14, 256)  1024        conv4_block3_1_conv[0][0]        \n",
      "__________________________________________________________________________________________________\n",
      "conv4_block3_1_relu (Activation (None, 14, 14, 256)  0           conv4_block3_1_bn[0][0]          \n",
      "__________________________________________________________________________________________________\n",
      "conv4_block3_2_conv (Conv2D)    (None, 14, 14, 256)  590080      conv4_block3_1_relu[0][0]        \n",
      "__________________________________________________________________________________________________\n",
      "conv4_block3_2_bn (BatchNormali (None, 14, 14, 256)  1024        conv4_block3_2_conv[0][0]        \n",
      "__________________________________________________________________________________________________\n",
      "conv4_block3_2_relu (Activation (None, 14, 14, 256)  0           conv4_block3_2_bn[0][0]          \n",
      "__________________________________________________________________________________________________\n",
      "conv4_block3_3_conv (Conv2D)    (None, 14, 14, 1024) 263168      conv4_block3_2_relu[0][0]        \n",
      "__________________________________________________________________________________________________\n",
      "conv4_block3_3_bn (BatchNormali (None, 14, 14, 1024) 4096        conv4_block3_3_conv[0][0]        \n",
      "__________________________________________________________________________________________________\n",
      "conv4_block3_add (Add)          (None, 14, 14, 1024) 0           conv4_block2_out[0][0]           \n",
      "                                                                 conv4_block3_3_bn[0][0]          \n",
      "__________________________________________________________________________________________________\n",
      "conv4_block3_out (Activation)   (None, 14, 14, 1024) 0           conv4_block3_add[0][0]           \n",
      "__________________________________________________________________________________________________\n",
      "conv4_block4_1_conv (Conv2D)    (None, 14, 14, 256)  262400      conv4_block3_out[0][0]           \n",
      "__________________________________________________________________________________________________\n",
      "conv4_block4_1_bn (BatchNormali (None, 14, 14, 256)  1024        conv4_block4_1_conv[0][0]        \n",
      "__________________________________________________________________________________________________\n",
      "conv4_block4_1_relu (Activation (None, 14, 14, 256)  0           conv4_block4_1_bn[0][0]          \n",
      "__________________________________________________________________________________________________\n",
      "conv4_block4_2_conv (Conv2D)    (None, 14, 14, 256)  590080      conv4_block4_1_relu[0][0]        \n",
      "__________________________________________________________________________________________________\n",
      "conv4_block4_2_bn (BatchNormali (None, 14, 14, 256)  1024        conv4_block4_2_conv[0][0]        \n",
      "__________________________________________________________________________________________________\n",
      "conv4_block4_2_relu (Activation (None, 14, 14, 256)  0           conv4_block4_2_bn[0][0]          \n",
      "__________________________________________________________________________________________________\n",
      "conv4_block4_3_conv (Conv2D)    (None, 14, 14, 1024) 263168      conv4_block4_2_relu[0][0]        \n",
      "__________________________________________________________________________________________________\n",
      "conv4_block4_3_bn (BatchNormali (None, 14, 14, 1024) 4096        conv4_block4_3_conv[0][0]        \n",
      "__________________________________________________________________________________________________\n",
      "conv4_block4_add (Add)          (None, 14, 14, 1024) 0           conv4_block3_out[0][0]           \n",
      "                                                                 conv4_block4_3_bn[0][0]          \n",
      "__________________________________________________________________________________________________\n",
      "conv4_block4_out (Activation)   (None, 14, 14, 1024) 0           conv4_block4_add[0][0]           \n",
      "__________________________________________________________________________________________________\n",
      "conv4_block5_1_conv (Conv2D)    (None, 14, 14, 256)  262400      conv4_block4_out[0][0]           \n",
      "__________________________________________________________________________________________________\n",
      "conv4_block5_1_bn (BatchNormali (None, 14, 14, 256)  1024        conv4_block5_1_conv[0][0]        \n",
      "__________________________________________________________________________________________________\n",
      "conv4_block5_1_relu (Activation (None, 14, 14, 256)  0           conv4_block5_1_bn[0][0]          \n",
      "__________________________________________________________________________________________________\n",
      "conv4_block5_2_conv (Conv2D)    (None, 14, 14, 256)  590080      conv4_block5_1_relu[0][0]        \n",
      "__________________________________________________________________________________________________\n",
      "conv4_block5_2_bn (BatchNormali (None, 14, 14, 256)  1024        conv4_block5_2_conv[0][0]        \n",
      "__________________________________________________________________________________________________\n",
      "conv4_block5_2_relu (Activation (None, 14, 14, 256)  0           conv4_block5_2_bn[0][0]          \n",
      "__________________________________________________________________________________________________\n",
      "conv4_block5_3_conv (Conv2D)    (None, 14, 14, 1024) 263168      conv4_block5_2_relu[0][0]        \n",
      "__________________________________________________________________________________________________\n",
      "conv4_block5_3_bn (BatchNormali (None, 14, 14, 1024) 4096        conv4_block5_3_conv[0][0]        \n",
      "__________________________________________________________________________________________________\n",
      "conv4_block5_add (Add)          (None, 14, 14, 1024) 0           conv4_block4_out[0][0]           \n",
      "                                                                 conv4_block5_3_bn[0][0]          \n",
      "__________________________________________________________________________________________________\n",
      "conv4_block5_out (Activation)   (None, 14, 14, 1024) 0           conv4_block5_add[0][0]           \n",
      "__________________________________________________________________________________________________\n",
      "conv4_block6_1_conv (Conv2D)    (None, 14, 14, 256)  262400      conv4_block5_out[0][0]           \n",
      "__________________________________________________________________________________________________\n",
      "conv4_block6_1_bn (BatchNormali (None, 14, 14, 256)  1024        conv4_block6_1_conv[0][0]        \n",
      "__________________________________________________________________________________________________\n",
      "conv4_block6_1_relu (Activation (None, 14, 14, 256)  0           conv4_block6_1_bn[0][0]          \n",
      "__________________________________________________________________________________________________\n",
      "conv4_block6_2_conv (Conv2D)    (None, 14, 14, 256)  590080      conv4_block6_1_relu[0][0]        \n",
      "__________________________________________________________________________________________________\n",
      "conv4_block6_2_bn (BatchNormali (None, 14, 14, 256)  1024        conv4_block6_2_conv[0][0]        \n",
      "__________________________________________________________________________________________________\n",
      "conv4_block6_2_relu (Activation (None, 14, 14, 256)  0           conv4_block6_2_bn[0][0]          \n",
      "__________________________________________________________________________________________________\n",
      "conv4_block6_3_conv (Conv2D)    (None, 14, 14, 1024) 263168      conv4_block6_2_relu[0][0]        \n",
      "__________________________________________________________________________________________________\n",
      "conv4_block6_3_bn (BatchNormali (None, 14, 14, 1024) 4096        conv4_block6_3_conv[0][0]        \n",
      "__________________________________________________________________________________________________\n",
      "conv4_block6_add (Add)          (None, 14, 14, 1024) 0           conv4_block5_out[0][0]           \n",
      "                                                                 conv4_block6_3_bn[0][0]          \n",
      "__________________________________________________________________________________________________\n",
      "conv4_block6_out (Activation)   (None, 14, 14, 1024) 0           conv4_block6_add[0][0]           \n",
      "__________________________________________________________________________________________________\n",
      "conv5_block1_1_conv (Conv2D)    (None, 7, 7, 512)    524800      conv4_block6_out[0][0]           \n",
      "__________________________________________________________________________________________________\n",
      "conv5_block1_1_bn (BatchNormali (None, 7, 7, 512)    2048        conv5_block1_1_conv[0][0]        \n",
      "__________________________________________________________________________________________________\n",
      "conv5_block1_1_relu (Activation (None, 7, 7, 512)    0           conv5_block1_1_bn[0][0]          \n",
      "__________________________________________________________________________________________________\n",
      "conv5_block1_2_conv (Conv2D)    (None, 7, 7, 512)    2359808     conv5_block1_1_relu[0][0]        \n",
      "__________________________________________________________________________________________________\n",
      "conv5_block1_2_bn (BatchNormali (None, 7, 7, 512)    2048        conv5_block1_2_conv[0][0]        \n",
      "__________________________________________________________________________________________________\n",
      "conv5_block1_2_relu (Activation (None, 7, 7, 512)    0           conv5_block1_2_bn[0][0]          \n",
      "__________________________________________________________________________________________________\n",
      "conv5_block1_0_conv (Conv2D)    (None, 7, 7, 2048)   2099200     conv4_block6_out[0][0]           \n",
      "__________________________________________________________________________________________________\n",
      "conv5_block1_3_conv (Conv2D)    (None, 7, 7, 2048)   1050624     conv5_block1_2_relu[0][0]        \n",
      "__________________________________________________________________________________________________\n",
      "conv5_block1_0_bn (BatchNormali (None, 7, 7, 2048)   8192        conv5_block1_0_conv[0][0]        \n",
      "__________________________________________________________________________________________________\n",
      "conv5_block1_3_bn (BatchNormali (None, 7, 7, 2048)   8192        conv5_block1_3_conv[0][0]        \n",
      "__________________________________________________________________________________________________\n",
      "conv5_block1_add (Add)          (None, 7, 7, 2048)   0           conv5_block1_0_bn[0][0]          \n",
      "                                                                 conv5_block1_3_bn[0][0]          \n",
      "__________________________________________________________________________________________________\n",
      "conv5_block1_out (Activation)   (None, 7, 7, 2048)   0           conv5_block1_add[0][0]           \n",
      "__________________________________________________________________________________________________\n",
      "conv5_block2_1_conv (Conv2D)    (None, 7, 7, 512)    1049088     conv5_block1_out[0][0]           \n",
      "__________________________________________________________________________________________________\n",
      "conv5_block2_1_bn (BatchNormali (None, 7, 7, 512)    2048        conv5_block2_1_conv[0][0]        \n",
      "__________________________________________________________________________________________________\n",
      "conv5_block2_1_relu (Activation (None, 7, 7, 512)    0           conv5_block2_1_bn[0][0]          \n",
      "__________________________________________________________________________________________________\n",
      "conv5_block2_2_conv (Conv2D)    (None, 7, 7, 512)    2359808     conv5_block2_1_relu[0][0]        \n",
      "__________________________________________________________________________________________________\n",
      "conv5_block2_2_bn (BatchNormali (None, 7, 7, 512)    2048        conv5_block2_2_conv[0][0]        \n",
      "__________________________________________________________________________________________________\n",
      "conv5_block2_2_relu (Activation (None, 7, 7, 512)    0           conv5_block2_2_bn[0][0]          \n",
      "__________________________________________________________________________________________________\n",
      "conv5_block2_3_conv (Conv2D)    (None, 7, 7, 2048)   1050624     conv5_block2_2_relu[0][0]        \n",
      "__________________________________________________________________________________________________\n",
      "conv5_block2_3_bn (BatchNormali (None, 7, 7, 2048)   8192        conv5_block2_3_conv[0][0]        \n",
      "__________________________________________________________________________________________________\n",
      "conv5_block2_add (Add)          (None, 7, 7, 2048)   0           conv5_block1_out[0][0]           \n",
      "                                                                 conv5_block2_3_bn[0][0]          \n",
      "__________________________________________________________________________________________________\n",
      "conv5_block2_out (Activation)   (None, 7, 7, 2048)   0           conv5_block2_add[0][0]           \n",
      "__________________________________________________________________________________________________\n",
      "conv5_block3_1_conv (Conv2D)    (None, 7, 7, 512)    1049088     conv5_block2_out[0][0]           \n",
      "__________________________________________________________________________________________________\n",
      "conv5_block3_1_bn (BatchNormali (None, 7, 7, 512)    2048        conv5_block3_1_conv[0][0]        \n",
      "__________________________________________________________________________________________________\n",
      "conv5_block3_1_relu (Activation (None, 7, 7, 512)    0           conv5_block3_1_bn[0][0]          \n",
      "__________________________________________________________________________________________________\n",
      "conv5_block3_2_conv (Conv2D)    (None, 7, 7, 512)    2359808     conv5_block3_1_relu[0][0]        \n",
      "__________________________________________________________________________________________________\n",
      "conv5_block3_2_bn (BatchNormali (None, 7, 7, 512)    2048        conv5_block3_2_conv[0][0]        \n",
      "__________________________________________________________________________________________________\n",
      "conv5_block3_2_relu (Activation (None, 7, 7, 512)    0           conv5_block3_2_bn[0][0]          \n",
      "__________________________________________________________________________________________________\n",
      "conv5_block3_3_conv (Conv2D)    (None, 7, 7, 2048)   1050624     conv5_block3_2_relu[0][0]        \n",
      "__________________________________________________________________________________________________\n",
      "conv5_block3_3_bn (BatchNormali (None, 7, 7, 2048)   8192        conv5_block3_3_conv[0][0]        \n",
      "__________________________________________________________________________________________________\n",
      "conv5_block3_add (Add)          (None, 7, 7, 2048)   0           conv5_block2_out[0][0]           \n",
      "                                                                 conv5_block3_3_bn[0][0]          \n",
      "__________________________________________________________________________________________________\n",
      "conv5_block3_out (Activation)   (None, 7, 7, 2048)   0           conv5_block3_add[0][0]           \n",
      "__________________________________________________________________________________________________\n",
      "avg_pool (GlobalAveragePooling2 (None, 2048)         0           conv5_block3_out[0][0]           \n",
      "==================================================================================================\n",
      "Total params: 23,587,712\n",
      "Trainable params: 23,534,592\n",
      "Non-trainable params: 53,120\n",
      "__________________________________________________________________________________________________\n",
      "time: 2.04 s (started: 2021-05-22 08:43:19 +00:00)\n"
     ]
    }
   ],
   "source": [
    "from keras.applications.resnet50 import ResNet50\n",
    "\n",
    "model=ResNet50(include_top=False, weights='imagenet',pooling='avg',input_shape=(224,224,3))\n",
    "model.summary()"
   ]
  },
  {
   "cell_type": "markdown",
   "metadata": {
    "id": "pCNVsuokD2y1"
   },
   "source": [
    "### Encoding images and forming dictionaries containing mapping of image_id to image encodings"
   ]
  },
  {
   "cell_type": "code",
   "execution_count": null,
   "metadata": {
    "colab": {
     "base_uri": "https://localhost:8080/"
    },
    "executionInfo": {
     "elapsed": 2756518,
     "status": "ok",
     "timestamp": 1621675833264,
     "user": {
      "displayName": "Mahendra Nandi",
      "photoUrl": "https://lh3.googleusercontent.com/a-/AOh14GiJvHORFQZmkU0oU_6jyOvujzaYNa0qm2rJlreUVKM=s64",
      "userId": "12295991303106185198"
     },
     "user_tz": -330
    },
    "id": "rb6faTywCQQR",
    "outputId": "24a31c9e-01fb-482f-ef5a-ea20a4402056"
   },
   "outputs": [
    {
     "name": "stderr",
     "output_type": "stream",
     "text": [
      "100%|██████████| 6000/6000 [45:56<00:00,  2.18it/s]"
     ]
    },
    {
     "name": "stdout",
     "output_type": "stream",
     "text": [
      "time: 45min 56s (started: 2021-05-22 08:43:21 +00:00)\n"
     ]
    },
    {
     "name": "stderr",
     "output_type": "stream",
     "text": [
      "\n"
     ]
    }
   ],
   "source": [
    "#extracting image encodings(features) from resnet50 and forming dict train_features\n",
    "# path=\"all_images/Flicker8k_Dataset/\"\n",
    "all_images=\"/content/drive/MyDrive/BDA2020_MN/MAHENDRA_DATASET/Flickr8k_Dataset/Flicker8k_Dataset/\"\n",
    "path=all_images\n",
    "train_features={}\n",
    "c=0\n",
    "for image_name in tqdm(train_captions):\n",
    "  img_path=path+image_name\n",
    "  img=image.load_img(img_path,target_size=(224,224))\n",
    "  x = image.img_to_array(img)\n",
    "  x = np.expand_dims(x, axis=0)\n",
    "  x = preprocess_input(x)\n",
    "  features = model.predict(x)\n",
    "  train_features[image_name]=features.squeeze()\n",
    "\n",
    "# storing_train_features= train_features"
   ]
  },
  {
   "cell_type": "code",
   "execution_count": null,
   "metadata": {
    "colab": {
     "base_uri": "https://localhost:8080/"
    },
    "executionInfo": {
     "elapsed": 468235,
     "status": "ok",
     "timestamp": 1621676301492,
     "user": {
      "displayName": "Mahendra Nandi",
      "photoUrl": "https://lh3.googleusercontent.com/a-/AOh14GiJvHORFQZmkU0oU_6jyOvujzaYNa0qm2rJlreUVKM=s64",
      "userId": "12295991303106185198"
     },
     "user_tz": -330
    },
    "id": "hK1xphtvDy78",
    "outputId": "7e4a50b8-ae09-4889-fd5e-a32481f66734"
   },
   "outputs": [
    {
     "name": "stderr",
     "output_type": "stream",
     "text": [
      "100%|██████████| 1000/1000 [07:47<00:00,  2.14it/s]"
     ]
    },
    {
     "name": "stdout",
     "output_type": "stream",
     "text": [
      "time: 7min 47s (started: 2021-05-22 09:29:17 +00:00)\n"
     ]
    },
    {
     "name": "stderr",
     "output_type": "stream",
     "text": [
      "\n"
     ]
    }
   ],
   "source": [
    "#extracting image encodings(features) from resnet50 and forming dict test_features\n",
    "# path=\"all_images/Flicker8k_Dataset/\"\n",
    "path=all_images\n",
    "test_features={}\n",
    "c=0\n",
    "for image_name in tqdm(test_captions):\n",
    "  img_path=path+image_name\n",
    "  img=image.load_img(img_path,target_size=(224,224))\n",
    "  x = image.img_to_array(img)\n",
    "  x = np.expand_dims(x, axis=0)\n",
    "  x = preprocess_input(x)\n",
    "  features = model.predict(x)\n",
    "  test_features[image_name]=features.squeeze()"
   ]
  },
  {
   "cell_type": "code",
   "execution_count": null,
   "metadata": {
    "colab": {
     "base_uri": "https://localhost:8080/"
    },
    "executionInfo": {
     "elapsed": 459542,
     "status": "ok",
     "timestamp": 1621676761021,
     "user": {
      "displayName": "Mahendra Nandi",
      "photoUrl": "https://lh3.googleusercontent.com/a-/AOh14GiJvHORFQZmkU0oU_6jyOvujzaYNa0qm2rJlreUVKM=s64",
      "userId": "12295991303106185198"
     },
     "user_tz": -330
    },
    "id": "7vCmqQDkDzA_",
    "outputId": "a694cb18-d970-4e46-d96f-8067baa30da8"
   },
   "outputs": [
    {
     "name": "stderr",
     "output_type": "stream",
     "text": [
      "100%|██████████| 1000/1000 [07:39<00:00,  2.17it/s]"
     ]
    },
    {
     "name": "stdout",
     "output_type": "stream",
     "text": [
      "time: 7min 39s (started: 2021-05-22 09:37:05 +00:00)\n"
     ]
    },
    {
     "name": "stderr",
     "output_type": "stream",
     "text": [
      "\n"
     ]
    }
   ],
   "source": [
    "#extracting image encodings(features) from resnet50 and forming dict validation_features\n",
    "# path=\"all_images/Flicker8k_Dataset/\"\n",
    "path=all_images\n",
    "validation_features={}\n",
    "c=0\n",
    "for image_name in tqdm(validation_captions):\n",
    "  img_path=path+image_name\n",
    "  img=image.load_img(img_path,target_size=(224,224))\n",
    "  x = image.img_to_array(img)\n",
    "  x = np.expand_dims(x, axis=0)\n",
    "  x = preprocess_input(x)\n",
    "  features = model.predict(x)\n",
    "  validation_features[image_name]=features.squeeze()"
   ]
  },
  {
   "cell_type": "code",
   "execution_count": null,
   "metadata": {
    "colab": {
     "base_uri": "https://localhost:8080/"
    },
    "executionInfo": {
     "elapsed": 735,
     "status": "ok",
     "timestamp": 1621676761746,
     "user": {
      "displayName": "Mahendra Nandi",
      "photoUrl": "https://lh3.googleusercontent.com/a-/AOh14GiJvHORFQZmkU0oU_6jyOvujzaYNa0qm2rJlreUVKM=s64",
      "userId": "12295991303106185198"
     },
     "user_tz": -330
    },
    "id": "4F4M2PK2DzEz",
    "outputId": "a82f225f-f6da-4a97-ca80-1fef04767fc0"
   },
   "outputs": [
    {
     "name": "stdout",
     "output_type": "stream",
     "text": [
      "time: 322 ms (started: 2021-05-22 09:44:45 +00:00)\n"
     ]
    }
   ],
   "source": [
    "pickle_out= open(\"/content/drive/MyDrive/BDA2020_MN/MAHENDRA_DATASET/train_features.pickle\",\"wb\")\n",
    "pickle.dump(train_features,pickle_out)\n",
    "pickle_out.close()\n",
    "\n",
    "pickle_out= open(\"/content/drive/MyDrive/BDA2020_MN/MAHENDRA_DATASET/test_features.pickle\",\"wb\")\n",
    "pickle.dump(test_features,pickle_out)\n",
    "pickle_out.close()\n",
    "\n",
    "pickle_out= open(\"/content/drive/MyDrive/BDA2020_MN/MAHENDRA_DATASET/validation_features.pickle\",\"wb\")\n",
    "pickle.dump(validation_features,pickle_out)\n",
    "pickle_out.close()"
   ]
  },
  {
   "cell_type": "code",
   "execution_count": null,
   "metadata": {
    "id": "X2GKMaYKDzMn"
   },
   "outputs": [],
   "source": []
  },
  {
   "cell_type": "code",
   "execution_count": null,
   "metadata": {
    "id": "9r3OTyOrDzQR"
   },
   "outputs": [],
   "source": []
  },
  {
   "cell_type": "code",
   "execution_count": null,
   "metadata": {
    "id": "0Rg2EPehDzUb"
   },
   "outputs": [],
   "source": []
  },
  {
   "cell_type": "code",
   "execution_count": null,
   "metadata": {
    "id": "GDCe04qLDzYE"
   },
   "outputs": [],
   "source": []
  }
 ],
 "metadata": {
  "colab": {
   "authorship_tag": "ABX9TyOJJExcSMmjbQ8zhwEs4Jw4",
   "mount_file_id": "1lYkMbIVZ6COHxzCiemKTp7LKOjDXb7vm",
   "name": "image_captioning_preprocessing.ipynb",
   "provenance": []
  },
  "kernelspec": {
   "display_name": "Python 3",
   "language": "python",
   "name": "python3"
  },
  "language_info": {
   "codemirror_mode": {
    "name": "ipython",
    "version": 3
   },
   "file_extension": ".py",
   "mimetype": "text/x-python",
   "name": "python",
   "nbconvert_exporter": "python",
   "pygments_lexer": "ipython3",
   "version": "3.8.8"
  }
 },
 "nbformat": 4,
 "nbformat_minor": 1
}
